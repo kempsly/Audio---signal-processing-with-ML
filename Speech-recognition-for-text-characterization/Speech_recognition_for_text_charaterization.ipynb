{
  "nbformat": 4,
  "nbformat_minor": 0,
  "metadata": {
    "colab": {
      "provenance": []
    },
    "kernelspec": {
      "name": "python3",
      "display_name": "Python 3"
    },
    "language_info": {
      "name": "python"
    }
  },
  "cells": [
    {
      "cell_type": "markdown",
      "source": [
        "**TEXT CHARACTERIZATION USING SPEECH RECOGNITION**"
      ],
      "metadata": {
        "id": "8AOIdxuHaop9"
      }
    },
    {
      "cell_type": "markdown",
      "source": [
        "In this project, we'll explore the capabilities of speech recognition libraries to analyze audio speech files.\n",
        "\n",
        " We'll do this by either importing pre-recorded audio files or directly recording and analyzing spoken words. Through this project, we'll learn various techniques to process and manipulate the converted text data obtained from speech to text conversion. We'll delve into different operations that can be performed on the transcribed speech data, gaining insights and understanding from the spoken content."
      ],
      "metadata": {
        "id": "QOeMV9hqbej7"
      }
    },
    {
      "cell_type": "markdown",
      "source": [
        "Project Timeline:\n",
        "1. Importing necessary libraries\n",
        "2. Utilizing speech recognition tools\n",
        "3. Examining the audio data\n",
        "4. Analyzing the lyrics of a song"
      ],
      "metadata": {
        "id": "Rn9UAxDEb1gK"
      }
    },
    {
      "cell_type": "markdown",
      "source": [
        "#Import Statements"
      ],
      "metadata": {
        "id": "Ar3Qr2RJb7fL"
      }
    },
    {
      "cell_type": "code",
      "source": [
        "!pip install SpeechRecognition"
      ],
      "metadata": {
        "colab": {
          "base_uri": "https://localhost:8080/"
        },
        "id": "3p1TcewMcPX8",
        "outputId": "d5d42064-91ec-4e9a-e59e-b07e9c60f272"
      },
      "execution_count": 2,
      "outputs": [
        {
          "output_type": "stream",
          "name": "stdout",
          "text": [
            "Collecting SpeechRecognition\n",
            "  Downloading SpeechRecognition-3.10.4-py2.py3-none-any.whl (32.8 MB)\n",
            "\u001b[2K     \u001b[90m━━━━━━━━━━━━━━━━━━━━━━━━━━━━━━━━━━━━━━━━\u001b[0m \u001b[32m32.8/32.8 MB\u001b[0m \u001b[31m36.5 MB/s\u001b[0m eta \u001b[36m0:00:00\u001b[0m\n",
            "\u001b[?25hRequirement already satisfied: requests>=2.26.0 in /usr/local/lib/python3.10/dist-packages (from SpeechRecognition) (2.31.0)\n",
            "Requirement already satisfied: typing-extensions in /usr/local/lib/python3.10/dist-packages (from SpeechRecognition) (4.11.0)\n",
            "Requirement already satisfied: charset-normalizer<4,>=2 in /usr/local/lib/python3.10/dist-packages (from requests>=2.26.0->SpeechRecognition) (3.3.2)\n",
            "Requirement already satisfied: idna<4,>=2.5 in /usr/local/lib/python3.10/dist-packages (from requests>=2.26.0->SpeechRecognition) (3.7)\n",
            "Requirement already satisfied: urllib3<3,>=1.21.1 in /usr/local/lib/python3.10/dist-packages (from requests>=2.26.0->SpeechRecognition) (2.0.7)\n",
            "Requirement already satisfied: certifi>=2017.4.17 in /usr/local/lib/python3.10/dist-packages (from requests>=2.26.0->SpeechRecognition) (2024.2.2)\n",
            "Installing collected packages: SpeechRecognition\n",
            "Successfully installed SpeechRecognition-3.10.4\n"
          ]
        }
      ]
    },
    {
      "cell_type": "code",
      "execution_count": 3,
      "metadata": {
        "id": "J8btAt2laQ4d"
      },
      "outputs": [],
      "source": [
        "import pandas as pd\n",
        "import numpy as np\n",
        "import speech_recognition as sr"
      ]
    },
    {
      "cell_type": "code",
      "source": [
        "import IPython.display as ipd"
      ],
      "metadata": {
        "id": "LvDdlESyaYKc"
      },
      "execution_count": 4,
      "outputs": []
    },
    {
      "cell_type": "code",
      "source": [
        "recognizer = sr.Recognizer()\n",
        "audio_file = sr.AudioFile(\"voice-data.wav\")\n",
        "type(audio_file)"
      ],
      "metadata": {
        "colab": {
          "base_uri": "https://localhost:8080/",
          "height": 186
        },
        "id": "28KQc-kFaYNX",
        "outputId": "82a742a9-4cfb-4bf5-c41b-f1776e70bb38"
      },
      "execution_count": 10,
      "outputs": [
        {
          "output_type": "execute_result",
          "data": {
            "text/plain": [
              "speech_recognition.AudioFile"
            ],
            "text/html": [
              "<div style=\"max-width:800px; border: 1px solid var(--colab-border-color);\"><style>\n",
              "      pre.function-repr-contents {\n",
              "        overflow-x: auto;\n",
              "        padding: 8px 12px;\n",
              "        max-height: 500px;\n",
              "      }\n",
              "\n",
              "      pre.function-repr-contents.function-repr-contents-collapsed {\n",
              "        cursor: pointer;\n",
              "        max-height: 100px;\n",
              "      }\n",
              "    </style>\n",
              "    <pre style=\"white-space: initial; background:\n",
              "         var(--colab-secondary-surface-color); padding: 8px 12px;\n",
              "         border-bottom: 1px solid var(--colab-border-color);\"><b>speech_recognition.AudioFile</b><br/>def __init__(filename_or_fileobject)</pre><pre class=\"function-repr-contents function-repr-contents-collapsed\" style=\"\"><a class=\"filepath\" style=\"display:none\" href=\"#\">/usr/local/lib/python3.10/dist-packages/speech_recognition/__init__.py</a>Creates a new ``AudioFile`` instance given a WAV/AIFF/FLAC audio file ``filename_or_fileobject``. Subclass of ``AudioSource``.\n",
              "\n",
              "If ``filename_or_fileobject`` is a string, then it is interpreted as a path to an audio file on the filesystem. Otherwise, ``filename_or_fileobject`` should be a file-like object such as ``io.BytesIO`` or similar.\n",
              "\n",
              "Note that functions that read from the audio (such as ``recognizer_instance.record`` or ``recognizer_instance.listen``) will move ahead in the stream. For example, if you execute ``recognizer_instance.record(audiofile_instance, duration=10)`` twice, the first time it will return the first 10 seconds of audio, and the second time it will return the 10 seconds of audio right after that. This is always reset to the beginning when entering an ``AudioFile`` context.\n",
              "\n",
              "WAV files must be in PCM/LPCM format; WAVE_FORMAT_EXTENSIBLE and compressed WAV are not supported and may result in undefined behaviour.\n",
              "\n",
              "Both AIFF and AIFF-C (compressed AIFF) formats are supported.\n",
              "\n",
              "FLAC files must be in native FLAC format; OGG-FLAC is not supported and may result in undefined behaviour.</pre>\n",
              "      <script>\n",
              "      if (google.colab.kernel.accessAllowed && google.colab.files && google.colab.files.view) {\n",
              "        for (const element of document.querySelectorAll('.filepath')) {\n",
              "          element.style.display = 'block'\n",
              "          element.onclick = (event) => {\n",
              "            event.preventDefault();\n",
              "            event.stopPropagation();\n",
              "            google.colab.files.view(element.textContent, 210);\n",
              "          };\n",
              "        }\n",
              "      }\n",
              "      for (const element of document.querySelectorAll('.function-repr-contents')) {\n",
              "        element.onclick = (event) => {\n",
              "          event.preventDefault();\n",
              "          event.stopPropagation();\n",
              "          element.classList.toggle('function-repr-contents-collapsed');\n",
              "        };\n",
              "      }\n",
              "      </script>\n",
              "      </div>"
            ]
          },
          "metadata": {},
          "execution_count": 10
        }
      ]
    },
    {
      "cell_type": "markdown",
      "source": [
        "**Using Google Web Speech API**"
      ],
      "metadata": {
        "id": "gziwCMbpc1tG"
      }
    },
    {
      "cell_type": "markdown",
      "source": [
        "This is a free web service provided by Google i.e. Recognize Google, through which we can convert audio speech files to text and perform operations on them."
      ],
      "metadata": {
        "id": "ZIQLYs7Ac8Gr"
      }
    },
    {
      "cell_type": "code",
      "source": [
        "# recognizer = sr.Recognizer()\n",
        "# audio_file = sr.AudioFile(\"voice-data.wav\")\n",
        "# type(audio_file)\n",
        "\n",
        "\n",
        "# with audio_file as source:\n",
        "#     audio_file = recognizer.record(source)\n",
        "#     result=recognizer.recognize_google(audio_data=audio_file)\n",
        "\n",
        "\n",
        "# with audio_file_ as source:\n",
        "#     audio_file = recognizer.record(source, duration = 5.0)\n",
        "#     result1 = recognizer.recognize_google(audio_data=audio_file)\n"
      ],
      "metadata": {
        "id": "1GJ7n1Gtejxz"
      },
      "execution_count": 14,
      "outputs": []
    },
    {
      "cell_type": "code",
      "source": [
        "with audio_file as source:\n",
        "    audio_file = recognizer.record(source)\n",
        "    result=recognizer.recognize_google(audio_data=audio_file)"
      ],
      "metadata": {
        "id": "mhHUk0KfaYTZ"
      },
      "execution_count": 11,
      "outputs": []
    },
    {
      "cell_type": "markdown",
      "source": [
        "There are two types of taking input :\n",
        "\n",
        "1) Duration : This is used to select a specific time of audio data i.e. if you want to select just 5 seconds then you can set Duration= 5 and it will only select the 5 seconds of audio file\n",
        "\n",
        "2) Offset : This is used when you cut out some part of the starting data from your audio file i.e. if you don't want first 2 seconds then you can select offset as 2 and it will skip the first two seconds."
      ],
      "metadata": {
        "id": "0zo7R-5vdStA"
      }
    },
    {
      "cell_type": "code",
      "source": [
        "# with audio_file_ as source:\n",
        "#     audio_file = recognizer.record(source, duration = 5.0)\n",
        "#     result1 = recognizer.recognize_google(audio_data=audio_file)"
      ],
      "metadata": {
        "id": "WBnqAxcfaYWK"
      },
      "execution_count": 12,
      "outputs": []
    },
    {
      "cell_type": "code",
      "source": [
        "import speech_recognition as sr\n",
        "\n",
        "recognizer = sr.Recognizer()\n",
        "audio_file = sr.AudioFile(\"voice-data.wav\")\n",
        "\n",
        "# with audio_file as source:\n",
        "#     audio_data = recognizer.record(source)\n",
        "#     result = recognizer.recognize_google(audio_data=audio_data)\n",
        "\n",
        "# print(result)\n",
        "\n",
        "# You can also use another with block to record audio for a specific duration\n",
        "with audio_file as source:\n",
        "    audio_data = recognizer.record(source, duration=5.0)\n",
        "    result1 = recognizer.recognize_google(audio_data=audio_data)\n",
        "\n",
        "print(result1)\n"
      ],
      "metadata": {
        "colab": {
          "base_uri": "https://localhost:8080/"
        },
        "id": "80M3AOw1fGCq",
        "outputId": "235a0e84-95f8-4cf6-a86e-90f02c0aeed4"
      },
      "execution_count": 15,
      "outputs": [
        {
          "output_type": "stream",
          "name": "stdout",
          "text": [
            "Eden awesome okay would you be then\n"
          ]
        }
      ]
    },
    {
      "cell_type": "code",
      "source": [
        "with audio_file as source:\n",
        "    audio_file_ = recognizer.record(source, duration = 5.0)\n",
        "    result1 = recognizer.recognize_google(audio_data=audio_file_)"
      ],
      "metadata": {
        "id": "954grP9teIDO"
      },
      "execution_count": 16,
      "outputs": []
    },
    {
      "cell_type": "code",
      "source": [
        "with audio_file as source:\n",
        "    audio_file_ = recognizer.record(source, offset = 2.0)\n",
        "    result2 = recognizer.recognize_google(audio_data=audio_file_)"
      ],
      "metadata": {
        "id": "2DrjmXwcaYY6"
      },
      "execution_count": 17,
      "outputs": []
    },
    {
      "cell_type": "markdown",
      "source": [
        "Combining duration and offset:"
      ],
      "metadata": {
        "id": "SkS3A9U9eXYl"
      }
    },
    {
      "cell_type": "code",
      "source": [
        "with audio_file as source:\n",
        "    audio_file_ = recognizer.record(source, duration= 5.0, offset = 2.0)\n",
        "    result3 = recognizer.recognize_google(audio_data=audio_file_)"
      ],
      "metadata": {
        "id": "sE2FUKNzaYbw"
      },
      "execution_count": 19,
      "outputs": []
    },
    {
      "cell_type": "markdown",
      "source": [
        "Comparing the results:"
      ],
      "metadata": {
        "id": "evnlkqpbgHRy"
      }
    },
    {
      "cell_type": "code",
      "source": [
        "print(result)\n",
        "print(\"---------------------------------------------------------------------------------\")\n",
        "print(result1)\n",
        "print(\"---------------------------------------------------------------------------------\")\n",
        "\n",
        "print(result2)\n",
        "print(\"---------------------------------------------------------------------------------\")\n",
        "\n",
        "print(result3)"
      ],
      "metadata": {
        "colab": {
          "base_uri": "https://localhost:8080/"
        },
        "id": "qxpgy4-EaYez",
        "outputId": "86d562e7-1f90-452b-cd21-0c247719d2f9"
      },
      "execution_count": 21,
      "outputs": [
        {
          "output_type": "stream",
          "name": "stdout",
          "text": [
            "Eden would you be then you know locking this meeting in so that we don't have no participants because once the division of team is done and stuff like that what does it or is it okay if people if more people join in the game you can play I think we have about 18 people like that most people would know about it so we playing code names guys it's a fun board game just just enjoy yourself have people join in case they want to do and then once we started okay so let's get started my screen guys like this is the time for rules if you don't understand now so the game that you're going to play is called code names and in the game you're all going to be like spy agents so much and the other side of team will look at it and before I explained for the how many of you know the game coordinates how many of you play the game for kids before Akash kindly call me if I'm going wrong somewhere else play coordinates it's good for us because we're going to be done came today so basically put up into two different teams Blue Team and Red Team and most of you will be joining us operators you can see operative here so both of the teams will be joining us operators but one among you one among you will be joining us by Master for each of the team so red team will have a red spider and the blue team and basically the aim of each team is to figure out where they're spy agency so for example in this case the blue team has nine agents and the red team has eight by agents and their hidden somewhere in this 2500 words so their location is protected by secret word and only the respective teams by Master knows the secret location so for example I will make some money from my team join us and then I'll\n",
            "---------------------------------------------------------------------------------\n",
            "Eden awesome okay would you be then\n",
            "---------------------------------------------------------------------------------\n",
            "would you be then you know locking this meeting in so that we don't have no participants because once the division of team is done and stuff like that okay or does it or is it okay if people if more people join in the game you can play I think we have about 18 people would know about it so we playing code names guys it's a fun board game just just enjoy yourself happy okay so let's get started my screen if you don't understand so come on let's pick out keep the chat open pick up should be fine now so the game that you're going to play is called code names and in the game you're all going to be like spy agents so much and the other side of team will look at it and before I explained for the how many of you know the game coordinates how many of you play the game for kids for us because we're going to be done came today so basically put up into two different teams blue team and most of you will be joining us operators you can see operative here so both of the teams will be joining us operators but one among you one among you will be joining us by Master for each of the team so red team will have a red spider and the blue team and basically the aim of each team is to figure out where there's spy agency so for example in this case the blue team has nine agents and the red team has eight by agents and their hidden somewhere in this 2500 words so their location is protected by secret word and only the respective teams by Master knows the secret location so for example I will make some money from my team join us and then I'll\n",
            "---------------------------------------------------------------------------------\n",
            "awesome okay would you be then you know lock\n"
          ]
        }
      ]
    },
    {
      "cell_type": "markdown",
      "source": [
        "**Effect Of Noise:**"
      ],
      "metadata": {
        "id": "CX1Hu2clgcI_"
      }
    },
    {
      "cell_type": "markdown",
      "source": [
        "Noise in the background data can create disturbances or error in the results hence it is necessary to remove the noise from the audio file\n"
      ],
      "metadata": {
        "id": "DjhL1KHLgh8L"
      }
    },
    {
      "cell_type": "code",
      "source": [
        "with audio_file as source:\n",
        "    recognizer.adjust_for_ambient_noise(source, duration=0.5)\n",
        "    audio = recognizer.record(source)\n",
        "\n",
        "result4= recognizer.recognize_google(audio)"
      ],
      "metadata": {
        "id": "-xqNQclqaYlC"
      },
      "execution_count": 23,
      "outputs": []
    },
    {
      "cell_type": "code",
      "source": [
        "print(result4)"
      ],
      "metadata": {
        "colab": {
          "base_uri": "https://localhost:8080/"
        },
        "id": "ra9lH12VaYoL",
        "outputId": "6224ecf9-0c8d-421c-c9c3-74a4fd928388"
      },
      "execution_count": 24,
      "outputs": [
        {
          "output_type": "stream",
          "name": "stdout",
          "text": [
            "would you be then you know locking this meeting in so that we don't have no participants because once the division of team is done and stuff like that okay or does it or is it okay if people if more people join in the game you can I think we have about 18 people and stuff like that most people would know about it so we playing code names guys it's a fun board game just just enjoy yourself happy okay so let's get started my screen guys like this time for\n"
          ]
        }
      ]
    },
    {
      "cell_type": "code",
      "source": [
        "result_str= result.split(' ')"
      ],
      "metadata": {
        "id": "82aJ1zxwaYrX"
      },
      "execution_count": 25,
      "outputs": []
    },
    {
      "cell_type": "code",
      "source": [
        "result_str"
      ],
      "metadata": {
        "colab": {
          "base_uri": "https://localhost:8080/"
        },
        "id": "zw_9ciPZaYuj",
        "outputId": "0e56e428-88af-4291-a019-8b84a5ba1aaf"
      },
      "execution_count": 26,
      "outputs": [
        {
          "output_type": "execute_result",
          "data": {
            "text/plain": [
              "['Eden',\n",
              " 'would',\n",
              " 'you',\n",
              " 'be',\n",
              " 'then',\n",
              " 'you',\n",
              " 'know',\n",
              " 'locking',\n",
              " 'this',\n",
              " 'meeting',\n",
              " 'in',\n",
              " 'so',\n",
              " 'that',\n",
              " 'we',\n",
              " \"don't\",\n",
              " 'have',\n",
              " 'no',\n",
              " 'participants',\n",
              " 'because',\n",
              " 'once',\n",
              " 'the',\n",
              " 'division',\n",
              " 'of',\n",
              " 'team',\n",
              " 'is',\n",
              " 'done',\n",
              " 'and',\n",
              " 'stuff',\n",
              " 'like',\n",
              " 'that',\n",
              " 'what',\n",
              " 'does',\n",
              " 'it',\n",
              " 'or',\n",
              " 'is',\n",
              " 'it',\n",
              " 'okay',\n",
              " 'if',\n",
              " 'people',\n",
              " 'if',\n",
              " 'more',\n",
              " 'people',\n",
              " 'join',\n",
              " 'in',\n",
              " 'the',\n",
              " 'game',\n",
              " 'you',\n",
              " 'can',\n",
              " 'play',\n",
              " 'I',\n",
              " 'think',\n",
              " 'we',\n",
              " 'have',\n",
              " 'about',\n",
              " '18',\n",
              " 'people',\n",
              " 'like',\n",
              " 'that',\n",
              " 'most',\n",
              " 'people',\n",
              " 'would',\n",
              " 'know',\n",
              " 'about',\n",
              " 'it',\n",
              " 'so',\n",
              " 'we',\n",
              " 'playing',\n",
              " 'code',\n",
              " 'names',\n",
              " 'guys',\n",
              " \"it's\",\n",
              " 'a',\n",
              " 'fun',\n",
              " 'board',\n",
              " 'game',\n",
              " 'just',\n",
              " 'just',\n",
              " 'enjoy',\n",
              " 'yourself',\n",
              " 'have',\n",
              " 'people',\n",
              " 'join',\n",
              " 'in',\n",
              " 'case',\n",
              " 'they',\n",
              " 'want',\n",
              " 'to',\n",
              " 'do',\n",
              " 'and',\n",
              " 'then',\n",
              " 'once',\n",
              " 'we',\n",
              " 'started',\n",
              " 'okay',\n",
              " 'so',\n",
              " \"let's\",\n",
              " 'get',\n",
              " 'started',\n",
              " 'my',\n",
              " 'screen',\n",
              " 'guys',\n",
              " 'like',\n",
              " 'this',\n",
              " 'is',\n",
              " 'the',\n",
              " 'time',\n",
              " 'for',\n",
              " 'rules',\n",
              " 'if',\n",
              " 'you',\n",
              " \"don't\",\n",
              " 'understand',\n",
              " 'now',\n",
              " 'so',\n",
              " 'the',\n",
              " 'game',\n",
              " 'that',\n",
              " \"you're\",\n",
              " 'going',\n",
              " 'to',\n",
              " 'play',\n",
              " 'is',\n",
              " 'called',\n",
              " 'code',\n",
              " 'names',\n",
              " 'and',\n",
              " 'in',\n",
              " 'the',\n",
              " 'game',\n",
              " \"you're\",\n",
              " 'all',\n",
              " 'going',\n",
              " 'to',\n",
              " 'be',\n",
              " 'like',\n",
              " 'spy',\n",
              " 'agents',\n",
              " 'so',\n",
              " 'much',\n",
              " 'and',\n",
              " 'the',\n",
              " 'other',\n",
              " 'side',\n",
              " 'of',\n",
              " 'team',\n",
              " 'will',\n",
              " 'look',\n",
              " 'at',\n",
              " 'it',\n",
              " 'and',\n",
              " 'before',\n",
              " 'I',\n",
              " 'explained',\n",
              " 'for',\n",
              " 'the',\n",
              " 'how',\n",
              " 'many',\n",
              " 'of',\n",
              " 'you',\n",
              " 'know',\n",
              " 'the',\n",
              " 'game',\n",
              " 'coordinates',\n",
              " 'how',\n",
              " 'many',\n",
              " 'of',\n",
              " 'you',\n",
              " 'play',\n",
              " 'the',\n",
              " 'game',\n",
              " 'for',\n",
              " 'kids',\n",
              " 'before',\n",
              " 'Akash',\n",
              " 'kindly',\n",
              " 'call',\n",
              " 'me',\n",
              " 'if',\n",
              " \"I'm\",\n",
              " 'going',\n",
              " 'wrong',\n",
              " 'somewhere',\n",
              " 'else',\n",
              " 'play',\n",
              " 'coordinates',\n",
              " \"it's\",\n",
              " 'good',\n",
              " 'for',\n",
              " 'us',\n",
              " 'because',\n",
              " \"we're\",\n",
              " 'going',\n",
              " 'to',\n",
              " 'be',\n",
              " 'done',\n",
              " 'came',\n",
              " 'today',\n",
              " 'so',\n",
              " 'basically',\n",
              " 'put',\n",
              " 'up',\n",
              " 'into',\n",
              " 'two',\n",
              " 'different',\n",
              " 'teams',\n",
              " 'Blue',\n",
              " 'Team',\n",
              " 'and',\n",
              " 'Red',\n",
              " 'Team',\n",
              " 'and',\n",
              " 'most',\n",
              " 'of',\n",
              " 'you',\n",
              " 'will',\n",
              " 'be',\n",
              " 'joining',\n",
              " 'us',\n",
              " 'operators',\n",
              " 'you',\n",
              " 'can',\n",
              " 'see',\n",
              " 'operative',\n",
              " 'here',\n",
              " 'so',\n",
              " 'both',\n",
              " 'of',\n",
              " 'the',\n",
              " 'teams',\n",
              " 'will',\n",
              " 'be',\n",
              " 'joining',\n",
              " 'us',\n",
              " 'operators',\n",
              " 'but',\n",
              " 'one',\n",
              " 'among',\n",
              " 'you',\n",
              " 'one',\n",
              " 'among',\n",
              " 'you',\n",
              " 'will',\n",
              " 'be',\n",
              " 'joining',\n",
              " 'us',\n",
              " 'by',\n",
              " 'Master',\n",
              " 'for',\n",
              " 'each',\n",
              " 'of',\n",
              " 'the',\n",
              " 'team',\n",
              " 'so',\n",
              " 'red',\n",
              " 'team',\n",
              " 'will',\n",
              " 'have',\n",
              " 'a',\n",
              " 'red',\n",
              " 'spider',\n",
              " 'and',\n",
              " 'the',\n",
              " 'blue',\n",
              " 'team',\n",
              " 'and',\n",
              " 'basically',\n",
              " 'the',\n",
              " 'aim',\n",
              " 'of',\n",
              " 'each',\n",
              " 'team',\n",
              " 'is',\n",
              " 'to',\n",
              " 'figure',\n",
              " 'out',\n",
              " 'where',\n",
              " \"they're\",\n",
              " 'spy',\n",
              " 'agency',\n",
              " 'so',\n",
              " 'for',\n",
              " 'example',\n",
              " 'in',\n",
              " 'this',\n",
              " 'case',\n",
              " 'the',\n",
              " 'blue',\n",
              " 'team',\n",
              " 'has',\n",
              " 'nine',\n",
              " 'agents',\n",
              " 'and',\n",
              " 'the',\n",
              " 'red',\n",
              " 'team',\n",
              " 'has',\n",
              " 'eight',\n",
              " 'by',\n",
              " 'agents',\n",
              " 'and',\n",
              " 'their',\n",
              " 'hidden',\n",
              " 'somewhere',\n",
              " 'in',\n",
              " 'this',\n",
              " '2500',\n",
              " 'words',\n",
              " 'so',\n",
              " 'their',\n",
              " 'location',\n",
              " 'is',\n",
              " 'protected',\n",
              " 'by',\n",
              " 'secret',\n",
              " 'word',\n",
              " 'and',\n",
              " 'only',\n",
              " 'the',\n",
              " 'respective',\n",
              " 'teams',\n",
              " 'by',\n",
              " 'Master',\n",
              " 'knows',\n",
              " 'the',\n",
              " 'secret',\n",
              " 'location',\n",
              " 'so',\n",
              " 'for',\n",
              " 'example',\n",
              " 'I',\n",
              " 'will',\n",
              " 'make',\n",
              " 'some',\n",
              " 'money',\n",
              " 'from',\n",
              " 'my',\n",
              " 'team',\n",
              " 'join',\n",
              " 'us',\n",
              " 'and',\n",
              " 'then',\n",
              " \"I'll\"]"
            ]
          },
          "metadata": {},
          "execution_count": 26
        }
      ]
    },
    {
      "cell_type": "markdown",
      "source": [
        "Different number of words used:"
      ],
      "metadata": {
        "id": "CoPf5JWciAAv"
      }
    },
    {
      "cell_type": "code",
      "source": [
        "unique_words = set(result_str)\n",
        "print(unique_words)"
      ],
      "metadata": {
        "colab": {
          "base_uri": "https://localhost:8080/"
        },
        "id": "og96T2IpaYx2",
        "outputId": "1ca8b721-bce7-4d65-9ed7-f8776258c2c8"
      },
      "execution_count": 27,
      "outputs": [
        {
          "output_type": "stream",
          "name": "stdout",
          "text": [
            "{'if', 'to', 'be', \"you're\", 'understand', \"it's\", 'team', 'before', 'coordinates', 'secret', 'meeting', 'know', 'a', 'words', 'knows', 'stuff', \"we're\", 'one', 'people', 'called', 'fun', 'is', 'into', 'you', 'rules', 'look', 'code', 'side', 'other', 'many', 'will', \"let's\", 'what', 'came', 'get', 'Master', 'among', 'playing', 'where', 'some', 'blue', 'of', 'board', 'play', 'wrong', 'agents', 'okay', 'two', 'participants', 'kids', 'I', 'today', \"I'm\", 'operative', 'only', 'Team', 'have', 'can', 'Akash', 'case', 'Red', 'somewhere', 'nine', 'teams', 'no', 'Blue', 'join', 'else', 'like', 'going', 'screen', 'protected', 'here', 'just', 'call', 'each', 'my', 'names', 'enjoy', 'want', 'location', 'both', 'at', 'started', 'spy', 'aim', 'time', 'hidden', 'in', 'but', 'yourself', 'money', 'how', 'they', 'red', 'and', 'has', \"they're\", 'basically', 'Eden', 'for', 'see', 'joining', 'do', 'done', 'much', 'different', 'their', 'game', 'does', 'me', 'make', 'up', 'word', 'from', 'respective', 'or', 'agency', 'by', 'spider', 'now', 'all', 'explained', 'once', 'kindly', '2500', \"don't\", 'good', 'out', 'because', 'this', \"I'll\", 'then', 'the', 'we', 'more', 'guys', 'that', 'operators', '18', 'locking', 'so', 'think', 'us', 'example', 'would', 'it', 'about', 'division', 'most', 'eight', 'figure', 'put'}\n"
          ]
        }
      ]
    },
    {
      "cell_type": "code",
      "source": [
        "print(\"The number of different words used: \",len(unique_words))"
      ],
      "metadata": {
        "colab": {
          "base_uri": "https://localhost:8080/"
        },
        "id": "NIhtQSqmaY1D",
        "outputId": "67b5f893-c8bf-42df-d197-43235a648f9d"
      },
      "execution_count": 28,
      "outputs": [
        {
          "output_type": "stream",
          "name": "stdout",
          "text": [
            "The number of different words used:  153\n"
          ]
        }
      ]
    },
    {
      "cell_type": "markdown",
      "source": [
        "**Repetition of words**"
      ],
      "metadata": {
        "id": "b_-BimK3iOHi"
      }
    },
    {
      "cell_type": "code",
      "source": [
        "# To count the number of times the unique words appear , first in the unique_word list\n",
        "word_dict = {} #An empty dictionary\n",
        "for word in result_str:\n",
        "    word_dict[word] = 0\n",
        "print(word_dict)"
      ],
      "metadata": {
        "colab": {
          "base_uri": "https://localhost:8080/"
        },
        "id": "DvaICJlvaY4Q",
        "outputId": "ac720b06-7ae7-4bea-cc47-9294e50d45b3"
      },
      "execution_count": 29,
      "outputs": [
        {
          "output_type": "stream",
          "name": "stdout",
          "text": [
            "{'Eden': 0, 'would': 0, 'you': 0, 'be': 0, 'then': 0, 'know': 0, 'locking': 0, 'this': 0, 'meeting': 0, 'in': 0, 'so': 0, 'that': 0, 'we': 0, \"don't\": 0, 'have': 0, 'no': 0, 'participants': 0, 'because': 0, 'once': 0, 'the': 0, 'division': 0, 'of': 0, 'team': 0, 'is': 0, 'done': 0, 'and': 0, 'stuff': 0, 'like': 0, 'what': 0, 'does': 0, 'it': 0, 'or': 0, 'okay': 0, 'if': 0, 'people': 0, 'more': 0, 'join': 0, 'game': 0, 'can': 0, 'play': 0, 'I': 0, 'think': 0, 'about': 0, '18': 0, 'most': 0, 'playing': 0, 'code': 0, 'names': 0, 'guys': 0, \"it's\": 0, 'a': 0, 'fun': 0, 'board': 0, 'just': 0, 'enjoy': 0, 'yourself': 0, 'case': 0, 'they': 0, 'want': 0, 'to': 0, 'do': 0, 'started': 0, \"let's\": 0, 'get': 0, 'my': 0, 'screen': 0, 'time': 0, 'for': 0, 'rules': 0, 'understand': 0, 'now': 0, \"you're\": 0, 'going': 0, 'called': 0, 'all': 0, 'spy': 0, 'agents': 0, 'much': 0, 'other': 0, 'side': 0, 'will': 0, 'look': 0, 'at': 0, 'before': 0, 'explained': 0, 'how': 0, 'many': 0, 'coordinates': 0, 'kids': 0, 'Akash': 0, 'kindly': 0, 'call': 0, 'me': 0, \"I'm\": 0, 'wrong': 0, 'somewhere': 0, 'else': 0, 'good': 0, 'us': 0, \"we're\": 0, 'came': 0, 'today': 0, 'basically': 0, 'put': 0, 'up': 0, 'into': 0, 'two': 0, 'different': 0, 'teams': 0, 'Blue': 0, 'Team': 0, 'Red': 0, 'joining': 0, 'operators': 0, 'see': 0, 'operative': 0, 'here': 0, 'both': 0, 'but': 0, 'one': 0, 'among': 0, 'by': 0, 'Master': 0, 'each': 0, 'red': 0, 'spider': 0, 'blue': 0, 'aim': 0, 'figure': 0, 'out': 0, 'where': 0, \"they're\": 0, 'agency': 0, 'example': 0, 'has': 0, 'nine': 0, 'eight': 0, 'their': 0, 'hidden': 0, '2500': 0, 'words': 0, 'location': 0, 'protected': 0, 'secret': 0, 'word': 0, 'only': 0, 'respective': 0, 'knows': 0, 'make': 0, 'some': 0, 'money': 0, 'from': 0, \"I'll\": 0}\n"
          ]
        }
      ]
    },
    {
      "cell_type": "code",
      "source": [
        "for word in result_str:\n",
        "    word_dict[word] = word_dict[word] + 1\n",
        "print(\"The count for each word spoken number of times are: \",word_dict)"
      ],
      "metadata": {
        "colab": {
          "base_uri": "https://localhost:8080/"
        },
        "id": "mD8hTBliaY6-",
        "outputId": "9171a9dc-c3f3-4e07-e77f-75d5f1e7aea6"
      },
      "execution_count": 30,
      "outputs": [
        {
          "output_type": "stream",
          "name": "stdout",
          "text": [
            "The count for each word spoken number of times are:  {'Eden': 1, 'would': 2, 'you': 10, 'be': 6, 'then': 3, 'know': 3, 'locking': 1, 'this': 4, 'meeting': 1, 'in': 6, 'so': 11, 'that': 4, 'we': 4, \"don't\": 2, 'have': 4, 'no': 1, 'participants': 1, 'because': 2, 'once': 2, 'the': 17, 'division': 1, 'of': 8, 'team': 9, 'is': 6, 'done': 2, 'and': 13, 'stuff': 1, 'like': 4, 'what': 1, 'does': 1, 'it': 4, 'or': 1, 'okay': 2, 'if': 4, 'people': 5, 'more': 1, 'join': 3, 'game': 6, 'can': 2, 'play': 4, 'I': 3, 'think': 1, 'about': 2, '18': 1, 'most': 2, 'playing': 1, 'code': 2, 'names': 2, 'guys': 2, \"it's\": 2, 'a': 2, 'fun': 1, 'board': 1, 'just': 2, 'enjoy': 1, 'yourself': 1, 'case': 2, 'they': 1, 'want': 1, 'to': 5, 'do': 1, 'started': 2, \"let's\": 1, 'get': 1, 'my': 2, 'screen': 1, 'time': 1, 'for': 7, 'rules': 1, 'understand': 1, 'now': 1, \"you're\": 2, 'going': 4, 'called': 1, 'all': 1, 'spy': 2, 'agents': 3, 'much': 1, 'other': 1, 'side': 1, 'will': 6, 'look': 1, 'at': 1, 'before': 2, 'explained': 1, 'how': 2, 'many': 2, 'coordinates': 2, 'kids': 1, 'Akash': 1, 'kindly': 1, 'call': 1, 'me': 1, \"I'm\": 1, 'wrong': 1, 'somewhere': 2, 'else': 1, 'good': 1, 'us': 5, \"we're\": 1, 'came': 1, 'today': 1, 'basically': 2, 'put': 1, 'up': 1, 'into': 1, 'two': 1, 'different': 1, 'teams': 3, 'Blue': 1, 'Team': 2, 'Red': 1, 'joining': 3, 'operators': 2, 'see': 1, 'operative': 1, 'here': 1, 'both': 1, 'but': 1, 'one': 2, 'among': 2, 'by': 4, 'Master': 2, 'each': 2, 'red': 3, 'spider': 1, 'blue': 2, 'aim': 1, 'figure': 1, 'out': 1, 'where': 1, \"they're\": 1, 'agency': 1, 'example': 2, 'has': 2, 'nine': 1, 'eight': 1, 'their': 2, 'hidden': 1, '2500': 1, 'words': 1, 'location': 2, 'protected': 1, 'secret': 2, 'word': 1, 'only': 1, 'respective': 1, 'knows': 1, 'make': 1, 'some': 1, 'money': 1, 'from': 1, \"I'll\": 1}\n"
          ]
        }
      ]
    },
    {
      "cell_type": "code",
      "source": [
        "cols= ['Repetition']\n",
        "count_df= pd.DataFrame.from_dict(word_dict,orient ='index',columns=cols)"
      ],
      "metadata": {
        "id": "IBvNpqTxaY9f"
      },
      "execution_count": 31,
      "outputs": []
    },
    {
      "cell_type": "code",
      "source": [
        "count_df"
      ],
      "metadata": {
        "colab": {
          "base_uri": "https://localhost:8080/",
          "height": 423
        },
        "id": "91R1GF-8iqTe",
        "outputId": "31210875-7ae0-4dfd-9724-4fe6b9613337"
      },
      "execution_count": 32,
      "outputs": [
        {
          "output_type": "execute_result",
          "data": {
            "text/plain": [
              "       Repetition\n",
              "Eden            1\n",
              "would           2\n",
              "you            10\n",
              "be              6\n",
              "then            3\n",
              "...           ...\n",
              "make            1\n",
              "some            1\n",
              "money           1\n",
              "from            1\n",
              "I'll            1\n",
              "\n",
              "[153 rows x 1 columns]"
            ],
            "text/html": [
              "\n",
              "  <div id=\"df-bf64fee5-3684-4417-b018-166d257cc4a7\" class=\"colab-df-container\">\n",
              "    <div>\n",
              "<style scoped>\n",
              "    .dataframe tbody tr th:only-of-type {\n",
              "        vertical-align: middle;\n",
              "    }\n",
              "\n",
              "    .dataframe tbody tr th {\n",
              "        vertical-align: top;\n",
              "    }\n",
              "\n",
              "    .dataframe thead th {\n",
              "        text-align: right;\n",
              "    }\n",
              "</style>\n",
              "<table border=\"1\" class=\"dataframe\">\n",
              "  <thead>\n",
              "    <tr style=\"text-align: right;\">\n",
              "      <th></th>\n",
              "      <th>Repetition</th>\n",
              "    </tr>\n",
              "  </thead>\n",
              "  <tbody>\n",
              "    <tr>\n",
              "      <th>Eden</th>\n",
              "      <td>1</td>\n",
              "    </tr>\n",
              "    <tr>\n",
              "      <th>would</th>\n",
              "      <td>2</td>\n",
              "    </tr>\n",
              "    <tr>\n",
              "      <th>you</th>\n",
              "      <td>10</td>\n",
              "    </tr>\n",
              "    <tr>\n",
              "      <th>be</th>\n",
              "      <td>6</td>\n",
              "    </tr>\n",
              "    <tr>\n",
              "      <th>then</th>\n",
              "      <td>3</td>\n",
              "    </tr>\n",
              "    <tr>\n",
              "      <th>...</th>\n",
              "      <td>...</td>\n",
              "    </tr>\n",
              "    <tr>\n",
              "      <th>make</th>\n",
              "      <td>1</td>\n",
              "    </tr>\n",
              "    <tr>\n",
              "      <th>some</th>\n",
              "      <td>1</td>\n",
              "    </tr>\n",
              "    <tr>\n",
              "      <th>money</th>\n",
              "      <td>1</td>\n",
              "    </tr>\n",
              "    <tr>\n",
              "      <th>from</th>\n",
              "      <td>1</td>\n",
              "    </tr>\n",
              "    <tr>\n",
              "      <th>I'll</th>\n",
              "      <td>1</td>\n",
              "    </tr>\n",
              "  </tbody>\n",
              "</table>\n",
              "<p>153 rows × 1 columns</p>\n",
              "</div>\n",
              "    <div class=\"colab-df-buttons\">\n",
              "\n",
              "  <div class=\"colab-df-container\">\n",
              "    <button class=\"colab-df-convert\" onclick=\"convertToInteractive('df-bf64fee5-3684-4417-b018-166d257cc4a7')\"\n",
              "            title=\"Convert this dataframe to an interactive table.\"\n",
              "            style=\"display:none;\">\n",
              "\n",
              "  <svg xmlns=\"http://www.w3.org/2000/svg\" height=\"24px\" viewBox=\"0 -960 960 960\">\n",
              "    <path d=\"M120-120v-720h720v720H120Zm60-500h600v-160H180v160Zm220 220h160v-160H400v160Zm0 220h160v-160H400v160ZM180-400h160v-160H180v160Zm440 0h160v-160H620v160ZM180-180h160v-160H180v160Zm440 0h160v-160H620v160Z\"/>\n",
              "  </svg>\n",
              "    </button>\n",
              "\n",
              "  <style>\n",
              "    .colab-df-container {\n",
              "      display:flex;\n",
              "      gap: 12px;\n",
              "    }\n",
              "\n",
              "    .colab-df-convert {\n",
              "      background-color: #E8F0FE;\n",
              "      border: none;\n",
              "      border-radius: 50%;\n",
              "      cursor: pointer;\n",
              "      display: none;\n",
              "      fill: #1967D2;\n",
              "      height: 32px;\n",
              "      padding: 0 0 0 0;\n",
              "      width: 32px;\n",
              "    }\n",
              "\n",
              "    .colab-df-convert:hover {\n",
              "      background-color: #E2EBFA;\n",
              "      box-shadow: 0px 1px 2px rgba(60, 64, 67, 0.3), 0px 1px 3px 1px rgba(60, 64, 67, 0.15);\n",
              "      fill: #174EA6;\n",
              "    }\n",
              "\n",
              "    .colab-df-buttons div {\n",
              "      margin-bottom: 4px;\n",
              "    }\n",
              "\n",
              "    [theme=dark] .colab-df-convert {\n",
              "      background-color: #3B4455;\n",
              "      fill: #D2E3FC;\n",
              "    }\n",
              "\n",
              "    [theme=dark] .colab-df-convert:hover {\n",
              "      background-color: #434B5C;\n",
              "      box-shadow: 0px 1px 3px 1px rgba(0, 0, 0, 0.15);\n",
              "      filter: drop-shadow(0px 1px 2px rgba(0, 0, 0, 0.3));\n",
              "      fill: #FFFFFF;\n",
              "    }\n",
              "  </style>\n",
              "\n",
              "    <script>\n",
              "      const buttonEl =\n",
              "        document.querySelector('#df-bf64fee5-3684-4417-b018-166d257cc4a7 button.colab-df-convert');\n",
              "      buttonEl.style.display =\n",
              "        google.colab.kernel.accessAllowed ? 'block' : 'none';\n",
              "\n",
              "      async function convertToInteractive(key) {\n",
              "        const element = document.querySelector('#df-bf64fee5-3684-4417-b018-166d257cc4a7');\n",
              "        const dataTable =\n",
              "          await google.colab.kernel.invokeFunction('convertToInteractive',\n",
              "                                                    [key], {});\n",
              "        if (!dataTable) return;\n",
              "\n",
              "        const docLinkHtml = 'Like what you see? Visit the ' +\n",
              "          '<a target=\"_blank\" href=https://colab.research.google.com/notebooks/data_table.ipynb>data table notebook</a>'\n",
              "          + ' to learn more about interactive tables.';\n",
              "        element.innerHTML = '';\n",
              "        dataTable['output_type'] = 'display_data';\n",
              "        await google.colab.output.renderOutput(dataTable, element);\n",
              "        const docLink = document.createElement('div');\n",
              "        docLink.innerHTML = docLinkHtml;\n",
              "        element.appendChild(docLink);\n",
              "      }\n",
              "    </script>\n",
              "  </div>\n",
              "\n",
              "\n",
              "<div id=\"df-a22a140e-7933-42c6-8e16-71a2938fb3e8\">\n",
              "  <button class=\"colab-df-quickchart\" onclick=\"quickchart('df-a22a140e-7933-42c6-8e16-71a2938fb3e8')\"\n",
              "            title=\"Suggest charts\"\n",
              "            style=\"display:none;\">\n",
              "\n",
              "<svg xmlns=\"http://www.w3.org/2000/svg\" height=\"24px\"viewBox=\"0 0 24 24\"\n",
              "     width=\"24px\">\n",
              "    <g>\n",
              "        <path d=\"M19 3H5c-1.1 0-2 .9-2 2v14c0 1.1.9 2 2 2h14c1.1 0 2-.9 2-2V5c0-1.1-.9-2-2-2zM9 17H7v-7h2v7zm4 0h-2V7h2v10zm4 0h-2v-4h2v4z\"/>\n",
              "    </g>\n",
              "</svg>\n",
              "  </button>\n",
              "\n",
              "<style>\n",
              "  .colab-df-quickchart {\n",
              "      --bg-color: #E8F0FE;\n",
              "      --fill-color: #1967D2;\n",
              "      --hover-bg-color: #E2EBFA;\n",
              "      --hover-fill-color: #174EA6;\n",
              "      --disabled-fill-color: #AAA;\n",
              "      --disabled-bg-color: #DDD;\n",
              "  }\n",
              "\n",
              "  [theme=dark] .colab-df-quickchart {\n",
              "      --bg-color: #3B4455;\n",
              "      --fill-color: #D2E3FC;\n",
              "      --hover-bg-color: #434B5C;\n",
              "      --hover-fill-color: #FFFFFF;\n",
              "      --disabled-bg-color: #3B4455;\n",
              "      --disabled-fill-color: #666;\n",
              "  }\n",
              "\n",
              "  .colab-df-quickchart {\n",
              "    background-color: var(--bg-color);\n",
              "    border: none;\n",
              "    border-radius: 50%;\n",
              "    cursor: pointer;\n",
              "    display: none;\n",
              "    fill: var(--fill-color);\n",
              "    height: 32px;\n",
              "    padding: 0;\n",
              "    width: 32px;\n",
              "  }\n",
              "\n",
              "  .colab-df-quickchart:hover {\n",
              "    background-color: var(--hover-bg-color);\n",
              "    box-shadow: 0 1px 2px rgba(60, 64, 67, 0.3), 0 1px 3px 1px rgba(60, 64, 67, 0.15);\n",
              "    fill: var(--button-hover-fill-color);\n",
              "  }\n",
              "\n",
              "  .colab-df-quickchart-complete:disabled,\n",
              "  .colab-df-quickchart-complete:disabled:hover {\n",
              "    background-color: var(--disabled-bg-color);\n",
              "    fill: var(--disabled-fill-color);\n",
              "    box-shadow: none;\n",
              "  }\n",
              "\n",
              "  .colab-df-spinner {\n",
              "    border: 2px solid var(--fill-color);\n",
              "    border-color: transparent;\n",
              "    border-bottom-color: var(--fill-color);\n",
              "    animation:\n",
              "      spin 1s steps(1) infinite;\n",
              "  }\n",
              "\n",
              "  @keyframes spin {\n",
              "    0% {\n",
              "      border-color: transparent;\n",
              "      border-bottom-color: var(--fill-color);\n",
              "      border-left-color: var(--fill-color);\n",
              "    }\n",
              "    20% {\n",
              "      border-color: transparent;\n",
              "      border-left-color: var(--fill-color);\n",
              "      border-top-color: var(--fill-color);\n",
              "    }\n",
              "    30% {\n",
              "      border-color: transparent;\n",
              "      border-left-color: var(--fill-color);\n",
              "      border-top-color: var(--fill-color);\n",
              "      border-right-color: var(--fill-color);\n",
              "    }\n",
              "    40% {\n",
              "      border-color: transparent;\n",
              "      border-right-color: var(--fill-color);\n",
              "      border-top-color: var(--fill-color);\n",
              "    }\n",
              "    60% {\n",
              "      border-color: transparent;\n",
              "      border-right-color: var(--fill-color);\n",
              "    }\n",
              "    80% {\n",
              "      border-color: transparent;\n",
              "      border-right-color: var(--fill-color);\n",
              "      border-bottom-color: var(--fill-color);\n",
              "    }\n",
              "    90% {\n",
              "      border-color: transparent;\n",
              "      border-bottom-color: var(--fill-color);\n",
              "    }\n",
              "  }\n",
              "</style>\n",
              "\n",
              "  <script>\n",
              "    async function quickchart(key) {\n",
              "      const quickchartButtonEl =\n",
              "        document.querySelector('#' + key + ' button');\n",
              "      quickchartButtonEl.disabled = true;  // To prevent multiple clicks.\n",
              "      quickchartButtonEl.classList.add('colab-df-spinner');\n",
              "      try {\n",
              "        const charts = await google.colab.kernel.invokeFunction(\n",
              "            'suggestCharts', [key], {});\n",
              "      } catch (error) {\n",
              "        console.error('Error during call to suggestCharts:', error);\n",
              "      }\n",
              "      quickchartButtonEl.classList.remove('colab-df-spinner');\n",
              "      quickchartButtonEl.classList.add('colab-df-quickchart-complete');\n",
              "    }\n",
              "    (() => {\n",
              "      let quickchartButtonEl =\n",
              "        document.querySelector('#df-a22a140e-7933-42c6-8e16-71a2938fb3e8 button');\n",
              "      quickchartButtonEl.style.display =\n",
              "        google.colab.kernel.accessAllowed ? 'block' : 'none';\n",
              "    })();\n",
              "  </script>\n",
              "</div>\n",
              "    </div>\n",
              "  </div>\n"
            ],
            "application/vnd.google.colaboratory.intrinsic+json": {
              "type": "dataframe",
              "variable_name": "count_df",
              "summary": "{\n  \"name\": \"count_df\",\n  \"rows\": 153,\n  \"fields\": [\n    {\n      \"column\": \"Repetition\",\n      \"properties\": {\n        \"dtype\": \"number\",\n        \"std\": 2,\n        \"min\": 1,\n        \"max\": 17,\n        \"num_unique_values\": 13,\n        \"samples\": [\n          5,\n          9,\n          1\n        ],\n        \"semantic_type\": \"\",\n        \"description\": \"\"\n      }\n    }\n  ]\n}"
            }
          },
          "metadata": {},
          "execution_count": 32
        }
      ]
    },
    {
      "cell_type": "code",
      "source": [
        "count_df= count_df.reset_index()"
      ],
      "metadata": {
        "id": "y_HvHQS4iktM"
      },
      "execution_count": 33,
      "outputs": []
    },
    {
      "cell_type": "code",
      "source": [
        "count_df"
      ],
      "metadata": {
        "colab": {
          "base_uri": "https://localhost:8080/",
          "height": 423
        },
        "id": "kdhTvrRVikwG",
        "outputId": "d13ee956-b1bf-419b-84df-1b0562cf206c"
      },
      "execution_count": 34,
      "outputs": [
        {
          "output_type": "execute_result",
          "data": {
            "text/plain": [
              "     index  Repetition\n",
              "0     Eden           1\n",
              "1    would           2\n",
              "2      you          10\n",
              "3       be           6\n",
              "4     then           3\n",
              "..     ...         ...\n",
              "148   make           1\n",
              "149   some           1\n",
              "150  money           1\n",
              "151   from           1\n",
              "152   I'll           1\n",
              "\n",
              "[153 rows x 2 columns]"
            ],
            "text/html": [
              "\n",
              "  <div id=\"df-111f42c6-5e89-4439-b324-97a8f5f77076\" class=\"colab-df-container\">\n",
              "    <div>\n",
              "<style scoped>\n",
              "    .dataframe tbody tr th:only-of-type {\n",
              "        vertical-align: middle;\n",
              "    }\n",
              "\n",
              "    .dataframe tbody tr th {\n",
              "        vertical-align: top;\n",
              "    }\n",
              "\n",
              "    .dataframe thead th {\n",
              "        text-align: right;\n",
              "    }\n",
              "</style>\n",
              "<table border=\"1\" class=\"dataframe\">\n",
              "  <thead>\n",
              "    <tr style=\"text-align: right;\">\n",
              "      <th></th>\n",
              "      <th>index</th>\n",
              "      <th>Repetition</th>\n",
              "    </tr>\n",
              "  </thead>\n",
              "  <tbody>\n",
              "    <tr>\n",
              "      <th>0</th>\n",
              "      <td>Eden</td>\n",
              "      <td>1</td>\n",
              "    </tr>\n",
              "    <tr>\n",
              "      <th>1</th>\n",
              "      <td>would</td>\n",
              "      <td>2</td>\n",
              "    </tr>\n",
              "    <tr>\n",
              "      <th>2</th>\n",
              "      <td>you</td>\n",
              "      <td>10</td>\n",
              "    </tr>\n",
              "    <tr>\n",
              "      <th>3</th>\n",
              "      <td>be</td>\n",
              "      <td>6</td>\n",
              "    </tr>\n",
              "    <tr>\n",
              "      <th>4</th>\n",
              "      <td>then</td>\n",
              "      <td>3</td>\n",
              "    </tr>\n",
              "    <tr>\n",
              "      <th>...</th>\n",
              "      <td>...</td>\n",
              "      <td>...</td>\n",
              "    </tr>\n",
              "    <tr>\n",
              "      <th>148</th>\n",
              "      <td>make</td>\n",
              "      <td>1</td>\n",
              "    </tr>\n",
              "    <tr>\n",
              "      <th>149</th>\n",
              "      <td>some</td>\n",
              "      <td>1</td>\n",
              "    </tr>\n",
              "    <tr>\n",
              "      <th>150</th>\n",
              "      <td>money</td>\n",
              "      <td>1</td>\n",
              "    </tr>\n",
              "    <tr>\n",
              "      <th>151</th>\n",
              "      <td>from</td>\n",
              "      <td>1</td>\n",
              "    </tr>\n",
              "    <tr>\n",
              "      <th>152</th>\n",
              "      <td>I'll</td>\n",
              "      <td>1</td>\n",
              "    </tr>\n",
              "  </tbody>\n",
              "</table>\n",
              "<p>153 rows × 2 columns</p>\n",
              "</div>\n",
              "    <div class=\"colab-df-buttons\">\n",
              "\n",
              "  <div class=\"colab-df-container\">\n",
              "    <button class=\"colab-df-convert\" onclick=\"convertToInteractive('df-111f42c6-5e89-4439-b324-97a8f5f77076')\"\n",
              "            title=\"Convert this dataframe to an interactive table.\"\n",
              "            style=\"display:none;\">\n",
              "\n",
              "  <svg xmlns=\"http://www.w3.org/2000/svg\" height=\"24px\" viewBox=\"0 -960 960 960\">\n",
              "    <path d=\"M120-120v-720h720v720H120Zm60-500h600v-160H180v160Zm220 220h160v-160H400v160Zm0 220h160v-160H400v160ZM180-400h160v-160H180v160Zm440 0h160v-160H620v160ZM180-180h160v-160H180v160Zm440 0h160v-160H620v160Z\"/>\n",
              "  </svg>\n",
              "    </button>\n",
              "\n",
              "  <style>\n",
              "    .colab-df-container {\n",
              "      display:flex;\n",
              "      gap: 12px;\n",
              "    }\n",
              "\n",
              "    .colab-df-convert {\n",
              "      background-color: #E8F0FE;\n",
              "      border: none;\n",
              "      border-radius: 50%;\n",
              "      cursor: pointer;\n",
              "      display: none;\n",
              "      fill: #1967D2;\n",
              "      height: 32px;\n",
              "      padding: 0 0 0 0;\n",
              "      width: 32px;\n",
              "    }\n",
              "\n",
              "    .colab-df-convert:hover {\n",
              "      background-color: #E2EBFA;\n",
              "      box-shadow: 0px 1px 2px rgba(60, 64, 67, 0.3), 0px 1px 3px 1px rgba(60, 64, 67, 0.15);\n",
              "      fill: #174EA6;\n",
              "    }\n",
              "\n",
              "    .colab-df-buttons div {\n",
              "      margin-bottom: 4px;\n",
              "    }\n",
              "\n",
              "    [theme=dark] .colab-df-convert {\n",
              "      background-color: #3B4455;\n",
              "      fill: #D2E3FC;\n",
              "    }\n",
              "\n",
              "    [theme=dark] .colab-df-convert:hover {\n",
              "      background-color: #434B5C;\n",
              "      box-shadow: 0px 1px 3px 1px rgba(0, 0, 0, 0.15);\n",
              "      filter: drop-shadow(0px 1px 2px rgba(0, 0, 0, 0.3));\n",
              "      fill: #FFFFFF;\n",
              "    }\n",
              "  </style>\n",
              "\n",
              "    <script>\n",
              "      const buttonEl =\n",
              "        document.querySelector('#df-111f42c6-5e89-4439-b324-97a8f5f77076 button.colab-df-convert');\n",
              "      buttonEl.style.display =\n",
              "        google.colab.kernel.accessAllowed ? 'block' : 'none';\n",
              "\n",
              "      async function convertToInteractive(key) {\n",
              "        const element = document.querySelector('#df-111f42c6-5e89-4439-b324-97a8f5f77076');\n",
              "        const dataTable =\n",
              "          await google.colab.kernel.invokeFunction('convertToInteractive',\n",
              "                                                    [key], {});\n",
              "        if (!dataTable) return;\n",
              "\n",
              "        const docLinkHtml = 'Like what you see? Visit the ' +\n",
              "          '<a target=\"_blank\" href=https://colab.research.google.com/notebooks/data_table.ipynb>data table notebook</a>'\n",
              "          + ' to learn more about interactive tables.';\n",
              "        element.innerHTML = '';\n",
              "        dataTable['output_type'] = 'display_data';\n",
              "        await google.colab.output.renderOutput(dataTable, element);\n",
              "        const docLink = document.createElement('div');\n",
              "        docLink.innerHTML = docLinkHtml;\n",
              "        element.appendChild(docLink);\n",
              "      }\n",
              "    </script>\n",
              "  </div>\n",
              "\n",
              "\n",
              "<div id=\"df-a644d342-4c92-4ef5-bf5b-18d4fee18ad0\">\n",
              "  <button class=\"colab-df-quickchart\" onclick=\"quickchart('df-a644d342-4c92-4ef5-bf5b-18d4fee18ad0')\"\n",
              "            title=\"Suggest charts\"\n",
              "            style=\"display:none;\">\n",
              "\n",
              "<svg xmlns=\"http://www.w3.org/2000/svg\" height=\"24px\"viewBox=\"0 0 24 24\"\n",
              "     width=\"24px\">\n",
              "    <g>\n",
              "        <path d=\"M19 3H5c-1.1 0-2 .9-2 2v14c0 1.1.9 2 2 2h14c1.1 0 2-.9 2-2V5c0-1.1-.9-2-2-2zM9 17H7v-7h2v7zm4 0h-2V7h2v10zm4 0h-2v-4h2v4z\"/>\n",
              "    </g>\n",
              "</svg>\n",
              "  </button>\n",
              "\n",
              "<style>\n",
              "  .colab-df-quickchart {\n",
              "      --bg-color: #E8F0FE;\n",
              "      --fill-color: #1967D2;\n",
              "      --hover-bg-color: #E2EBFA;\n",
              "      --hover-fill-color: #174EA6;\n",
              "      --disabled-fill-color: #AAA;\n",
              "      --disabled-bg-color: #DDD;\n",
              "  }\n",
              "\n",
              "  [theme=dark] .colab-df-quickchart {\n",
              "      --bg-color: #3B4455;\n",
              "      --fill-color: #D2E3FC;\n",
              "      --hover-bg-color: #434B5C;\n",
              "      --hover-fill-color: #FFFFFF;\n",
              "      --disabled-bg-color: #3B4455;\n",
              "      --disabled-fill-color: #666;\n",
              "  }\n",
              "\n",
              "  .colab-df-quickchart {\n",
              "    background-color: var(--bg-color);\n",
              "    border: none;\n",
              "    border-radius: 50%;\n",
              "    cursor: pointer;\n",
              "    display: none;\n",
              "    fill: var(--fill-color);\n",
              "    height: 32px;\n",
              "    padding: 0;\n",
              "    width: 32px;\n",
              "  }\n",
              "\n",
              "  .colab-df-quickchart:hover {\n",
              "    background-color: var(--hover-bg-color);\n",
              "    box-shadow: 0 1px 2px rgba(60, 64, 67, 0.3), 0 1px 3px 1px rgba(60, 64, 67, 0.15);\n",
              "    fill: var(--button-hover-fill-color);\n",
              "  }\n",
              "\n",
              "  .colab-df-quickchart-complete:disabled,\n",
              "  .colab-df-quickchart-complete:disabled:hover {\n",
              "    background-color: var(--disabled-bg-color);\n",
              "    fill: var(--disabled-fill-color);\n",
              "    box-shadow: none;\n",
              "  }\n",
              "\n",
              "  .colab-df-spinner {\n",
              "    border: 2px solid var(--fill-color);\n",
              "    border-color: transparent;\n",
              "    border-bottom-color: var(--fill-color);\n",
              "    animation:\n",
              "      spin 1s steps(1) infinite;\n",
              "  }\n",
              "\n",
              "  @keyframes spin {\n",
              "    0% {\n",
              "      border-color: transparent;\n",
              "      border-bottom-color: var(--fill-color);\n",
              "      border-left-color: var(--fill-color);\n",
              "    }\n",
              "    20% {\n",
              "      border-color: transparent;\n",
              "      border-left-color: var(--fill-color);\n",
              "      border-top-color: var(--fill-color);\n",
              "    }\n",
              "    30% {\n",
              "      border-color: transparent;\n",
              "      border-left-color: var(--fill-color);\n",
              "      border-top-color: var(--fill-color);\n",
              "      border-right-color: var(--fill-color);\n",
              "    }\n",
              "    40% {\n",
              "      border-color: transparent;\n",
              "      border-right-color: var(--fill-color);\n",
              "      border-top-color: var(--fill-color);\n",
              "    }\n",
              "    60% {\n",
              "      border-color: transparent;\n",
              "      border-right-color: var(--fill-color);\n",
              "    }\n",
              "    80% {\n",
              "      border-color: transparent;\n",
              "      border-right-color: var(--fill-color);\n",
              "      border-bottom-color: var(--fill-color);\n",
              "    }\n",
              "    90% {\n",
              "      border-color: transparent;\n",
              "      border-bottom-color: var(--fill-color);\n",
              "    }\n",
              "  }\n",
              "</style>\n",
              "\n",
              "  <script>\n",
              "    async function quickchart(key) {\n",
              "      const quickchartButtonEl =\n",
              "        document.querySelector('#' + key + ' button');\n",
              "      quickchartButtonEl.disabled = true;  // To prevent multiple clicks.\n",
              "      quickchartButtonEl.classList.add('colab-df-spinner');\n",
              "      try {\n",
              "        const charts = await google.colab.kernel.invokeFunction(\n",
              "            'suggestCharts', [key], {});\n",
              "      } catch (error) {\n",
              "        console.error('Error during call to suggestCharts:', error);\n",
              "      }\n",
              "      quickchartButtonEl.classList.remove('colab-df-spinner');\n",
              "      quickchartButtonEl.classList.add('colab-df-quickchart-complete');\n",
              "    }\n",
              "    (() => {\n",
              "      let quickchartButtonEl =\n",
              "        document.querySelector('#df-a644d342-4c92-4ef5-bf5b-18d4fee18ad0 button');\n",
              "      quickchartButtonEl.style.display =\n",
              "        google.colab.kernel.accessAllowed ? 'block' : 'none';\n",
              "    })();\n",
              "  </script>\n",
              "</div>\n",
              "    </div>\n",
              "  </div>\n"
            ],
            "application/vnd.google.colaboratory.intrinsic+json": {
              "type": "dataframe",
              "variable_name": "count_df",
              "summary": "{\n  \"name\": \"count_df\",\n  \"rows\": 153,\n  \"fields\": [\n    {\n      \"column\": \"index\",\n      \"properties\": {\n        \"dtype\": \"string\",\n        \"num_unique_values\": 153,\n        \"samples\": [\n          \"explained\",\n          \"many\",\n          \"good\"\n        ],\n        \"semantic_type\": \"\",\n        \"description\": \"\"\n      }\n    },\n    {\n      \"column\": \"Repetition\",\n      \"properties\": {\n        \"dtype\": \"number\",\n        \"std\": 2,\n        \"min\": 1,\n        \"max\": 17,\n        \"num_unique_values\": 13,\n        \"samples\": [\n          5,\n          9,\n          1\n        ],\n        \"semantic_type\": \"\",\n        \"description\": \"\"\n      }\n    }\n  ]\n}"
            }
          },
          "metadata": {},
          "execution_count": 34
        }
      ]
    },
    {
      "cell_type": "code",
      "source": [
        "count_df= count_df.rename(columns = {'index':'Word'})\n",
        "count_df"
      ],
      "metadata": {
        "colab": {
          "base_uri": "https://localhost:8080/",
          "height": 423
        },
        "id": "Qu4HFQd1ikzK",
        "outputId": "1d15fdbc-e550-47d3-a7e1-8342aef31d2a"
      },
      "execution_count": 35,
      "outputs": [
        {
          "output_type": "execute_result",
          "data": {
            "text/plain": [
              "      Word  Repetition\n",
              "0     Eden           1\n",
              "1    would           2\n",
              "2      you          10\n",
              "3       be           6\n",
              "4     then           3\n",
              "..     ...         ...\n",
              "148   make           1\n",
              "149   some           1\n",
              "150  money           1\n",
              "151   from           1\n",
              "152   I'll           1\n",
              "\n",
              "[153 rows x 2 columns]"
            ],
            "text/html": [
              "\n",
              "  <div id=\"df-7fde5372-664b-4f97-9332-c2bed479c4bb\" class=\"colab-df-container\">\n",
              "    <div>\n",
              "<style scoped>\n",
              "    .dataframe tbody tr th:only-of-type {\n",
              "        vertical-align: middle;\n",
              "    }\n",
              "\n",
              "    .dataframe tbody tr th {\n",
              "        vertical-align: top;\n",
              "    }\n",
              "\n",
              "    .dataframe thead th {\n",
              "        text-align: right;\n",
              "    }\n",
              "</style>\n",
              "<table border=\"1\" class=\"dataframe\">\n",
              "  <thead>\n",
              "    <tr style=\"text-align: right;\">\n",
              "      <th></th>\n",
              "      <th>Word</th>\n",
              "      <th>Repetition</th>\n",
              "    </tr>\n",
              "  </thead>\n",
              "  <tbody>\n",
              "    <tr>\n",
              "      <th>0</th>\n",
              "      <td>Eden</td>\n",
              "      <td>1</td>\n",
              "    </tr>\n",
              "    <tr>\n",
              "      <th>1</th>\n",
              "      <td>would</td>\n",
              "      <td>2</td>\n",
              "    </tr>\n",
              "    <tr>\n",
              "      <th>2</th>\n",
              "      <td>you</td>\n",
              "      <td>10</td>\n",
              "    </tr>\n",
              "    <tr>\n",
              "      <th>3</th>\n",
              "      <td>be</td>\n",
              "      <td>6</td>\n",
              "    </tr>\n",
              "    <tr>\n",
              "      <th>4</th>\n",
              "      <td>then</td>\n",
              "      <td>3</td>\n",
              "    </tr>\n",
              "    <tr>\n",
              "      <th>...</th>\n",
              "      <td>...</td>\n",
              "      <td>...</td>\n",
              "    </tr>\n",
              "    <tr>\n",
              "      <th>148</th>\n",
              "      <td>make</td>\n",
              "      <td>1</td>\n",
              "    </tr>\n",
              "    <tr>\n",
              "      <th>149</th>\n",
              "      <td>some</td>\n",
              "      <td>1</td>\n",
              "    </tr>\n",
              "    <tr>\n",
              "      <th>150</th>\n",
              "      <td>money</td>\n",
              "      <td>1</td>\n",
              "    </tr>\n",
              "    <tr>\n",
              "      <th>151</th>\n",
              "      <td>from</td>\n",
              "      <td>1</td>\n",
              "    </tr>\n",
              "    <tr>\n",
              "      <th>152</th>\n",
              "      <td>I'll</td>\n",
              "      <td>1</td>\n",
              "    </tr>\n",
              "  </tbody>\n",
              "</table>\n",
              "<p>153 rows × 2 columns</p>\n",
              "</div>\n",
              "    <div class=\"colab-df-buttons\">\n",
              "\n",
              "  <div class=\"colab-df-container\">\n",
              "    <button class=\"colab-df-convert\" onclick=\"convertToInteractive('df-7fde5372-664b-4f97-9332-c2bed479c4bb')\"\n",
              "            title=\"Convert this dataframe to an interactive table.\"\n",
              "            style=\"display:none;\">\n",
              "\n",
              "  <svg xmlns=\"http://www.w3.org/2000/svg\" height=\"24px\" viewBox=\"0 -960 960 960\">\n",
              "    <path d=\"M120-120v-720h720v720H120Zm60-500h600v-160H180v160Zm220 220h160v-160H400v160Zm0 220h160v-160H400v160ZM180-400h160v-160H180v160Zm440 0h160v-160H620v160ZM180-180h160v-160H180v160Zm440 0h160v-160H620v160Z\"/>\n",
              "  </svg>\n",
              "    </button>\n",
              "\n",
              "  <style>\n",
              "    .colab-df-container {\n",
              "      display:flex;\n",
              "      gap: 12px;\n",
              "    }\n",
              "\n",
              "    .colab-df-convert {\n",
              "      background-color: #E8F0FE;\n",
              "      border: none;\n",
              "      border-radius: 50%;\n",
              "      cursor: pointer;\n",
              "      display: none;\n",
              "      fill: #1967D2;\n",
              "      height: 32px;\n",
              "      padding: 0 0 0 0;\n",
              "      width: 32px;\n",
              "    }\n",
              "\n",
              "    .colab-df-convert:hover {\n",
              "      background-color: #E2EBFA;\n",
              "      box-shadow: 0px 1px 2px rgba(60, 64, 67, 0.3), 0px 1px 3px 1px rgba(60, 64, 67, 0.15);\n",
              "      fill: #174EA6;\n",
              "    }\n",
              "\n",
              "    .colab-df-buttons div {\n",
              "      margin-bottom: 4px;\n",
              "    }\n",
              "\n",
              "    [theme=dark] .colab-df-convert {\n",
              "      background-color: #3B4455;\n",
              "      fill: #D2E3FC;\n",
              "    }\n",
              "\n",
              "    [theme=dark] .colab-df-convert:hover {\n",
              "      background-color: #434B5C;\n",
              "      box-shadow: 0px 1px 3px 1px rgba(0, 0, 0, 0.15);\n",
              "      filter: drop-shadow(0px 1px 2px rgba(0, 0, 0, 0.3));\n",
              "      fill: #FFFFFF;\n",
              "    }\n",
              "  </style>\n",
              "\n",
              "    <script>\n",
              "      const buttonEl =\n",
              "        document.querySelector('#df-7fde5372-664b-4f97-9332-c2bed479c4bb button.colab-df-convert');\n",
              "      buttonEl.style.display =\n",
              "        google.colab.kernel.accessAllowed ? 'block' : 'none';\n",
              "\n",
              "      async function convertToInteractive(key) {\n",
              "        const element = document.querySelector('#df-7fde5372-664b-4f97-9332-c2bed479c4bb');\n",
              "        const dataTable =\n",
              "          await google.colab.kernel.invokeFunction('convertToInteractive',\n",
              "                                                    [key], {});\n",
              "        if (!dataTable) return;\n",
              "\n",
              "        const docLinkHtml = 'Like what you see? Visit the ' +\n",
              "          '<a target=\"_blank\" href=https://colab.research.google.com/notebooks/data_table.ipynb>data table notebook</a>'\n",
              "          + ' to learn more about interactive tables.';\n",
              "        element.innerHTML = '';\n",
              "        dataTable['output_type'] = 'display_data';\n",
              "        await google.colab.output.renderOutput(dataTable, element);\n",
              "        const docLink = document.createElement('div');\n",
              "        docLink.innerHTML = docLinkHtml;\n",
              "        element.appendChild(docLink);\n",
              "      }\n",
              "    </script>\n",
              "  </div>\n",
              "\n",
              "\n",
              "<div id=\"df-66d6a230-40ba-4a9a-b616-e003113912e0\">\n",
              "  <button class=\"colab-df-quickchart\" onclick=\"quickchart('df-66d6a230-40ba-4a9a-b616-e003113912e0')\"\n",
              "            title=\"Suggest charts\"\n",
              "            style=\"display:none;\">\n",
              "\n",
              "<svg xmlns=\"http://www.w3.org/2000/svg\" height=\"24px\"viewBox=\"0 0 24 24\"\n",
              "     width=\"24px\">\n",
              "    <g>\n",
              "        <path d=\"M19 3H5c-1.1 0-2 .9-2 2v14c0 1.1.9 2 2 2h14c1.1 0 2-.9 2-2V5c0-1.1-.9-2-2-2zM9 17H7v-7h2v7zm4 0h-2V7h2v10zm4 0h-2v-4h2v4z\"/>\n",
              "    </g>\n",
              "</svg>\n",
              "  </button>\n",
              "\n",
              "<style>\n",
              "  .colab-df-quickchart {\n",
              "      --bg-color: #E8F0FE;\n",
              "      --fill-color: #1967D2;\n",
              "      --hover-bg-color: #E2EBFA;\n",
              "      --hover-fill-color: #174EA6;\n",
              "      --disabled-fill-color: #AAA;\n",
              "      --disabled-bg-color: #DDD;\n",
              "  }\n",
              "\n",
              "  [theme=dark] .colab-df-quickchart {\n",
              "      --bg-color: #3B4455;\n",
              "      --fill-color: #D2E3FC;\n",
              "      --hover-bg-color: #434B5C;\n",
              "      --hover-fill-color: #FFFFFF;\n",
              "      --disabled-bg-color: #3B4455;\n",
              "      --disabled-fill-color: #666;\n",
              "  }\n",
              "\n",
              "  .colab-df-quickchart {\n",
              "    background-color: var(--bg-color);\n",
              "    border: none;\n",
              "    border-radius: 50%;\n",
              "    cursor: pointer;\n",
              "    display: none;\n",
              "    fill: var(--fill-color);\n",
              "    height: 32px;\n",
              "    padding: 0;\n",
              "    width: 32px;\n",
              "  }\n",
              "\n",
              "  .colab-df-quickchart:hover {\n",
              "    background-color: var(--hover-bg-color);\n",
              "    box-shadow: 0 1px 2px rgba(60, 64, 67, 0.3), 0 1px 3px 1px rgba(60, 64, 67, 0.15);\n",
              "    fill: var(--button-hover-fill-color);\n",
              "  }\n",
              "\n",
              "  .colab-df-quickchart-complete:disabled,\n",
              "  .colab-df-quickchart-complete:disabled:hover {\n",
              "    background-color: var(--disabled-bg-color);\n",
              "    fill: var(--disabled-fill-color);\n",
              "    box-shadow: none;\n",
              "  }\n",
              "\n",
              "  .colab-df-spinner {\n",
              "    border: 2px solid var(--fill-color);\n",
              "    border-color: transparent;\n",
              "    border-bottom-color: var(--fill-color);\n",
              "    animation:\n",
              "      spin 1s steps(1) infinite;\n",
              "  }\n",
              "\n",
              "  @keyframes spin {\n",
              "    0% {\n",
              "      border-color: transparent;\n",
              "      border-bottom-color: var(--fill-color);\n",
              "      border-left-color: var(--fill-color);\n",
              "    }\n",
              "    20% {\n",
              "      border-color: transparent;\n",
              "      border-left-color: var(--fill-color);\n",
              "      border-top-color: var(--fill-color);\n",
              "    }\n",
              "    30% {\n",
              "      border-color: transparent;\n",
              "      border-left-color: var(--fill-color);\n",
              "      border-top-color: var(--fill-color);\n",
              "      border-right-color: var(--fill-color);\n",
              "    }\n",
              "    40% {\n",
              "      border-color: transparent;\n",
              "      border-right-color: var(--fill-color);\n",
              "      border-top-color: var(--fill-color);\n",
              "    }\n",
              "    60% {\n",
              "      border-color: transparent;\n",
              "      border-right-color: var(--fill-color);\n",
              "    }\n",
              "    80% {\n",
              "      border-color: transparent;\n",
              "      border-right-color: var(--fill-color);\n",
              "      border-bottom-color: var(--fill-color);\n",
              "    }\n",
              "    90% {\n",
              "      border-color: transparent;\n",
              "      border-bottom-color: var(--fill-color);\n",
              "    }\n",
              "  }\n",
              "</style>\n",
              "\n",
              "  <script>\n",
              "    async function quickchart(key) {\n",
              "      const quickchartButtonEl =\n",
              "        document.querySelector('#' + key + ' button');\n",
              "      quickchartButtonEl.disabled = true;  // To prevent multiple clicks.\n",
              "      quickchartButtonEl.classList.add('colab-df-spinner');\n",
              "      try {\n",
              "        const charts = await google.colab.kernel.invokeFunction(\n",
              "            'suggestCharts', [key], {});\n",
              "      } catch (error) {\n",
              "        console.error('Error during call to suggestCharts:', error);\n",
              "      }\n",
              "      quickchartButtonEl.classList.remove('colab-df-spinner');\n",
              "      quickchartButtonEl.classList.add('colab-df-quickchart-complete');\n",
              "    }\n",
              "    (() => {\n",
              "      let quickchartButtonEl =\n",
              "        document.querySelector('#df-66d6a230-40ba-4a9a-b616-e003113912e0 button');\n",
              "      quickchartButtonEl.style.display =\n",
              "        google.colab.kernel.accessAllowed ? 'block' : 'none';\n",
              "    })();\n",
              "  </script>\n",
              "</div>\n",
              "    </div>\n",
              "  </div>\n"
            ],
            "application/vnd.google.colaboratory.intrinsic+json": {
              "type": "dataframe",
              "variable_name": "count_df",
              "summary": "{\n  \"name\": \"count_df\",\n  \"rows\": 153,\n  \"fields\": [\n    {\n      \"column\": \"Word\",\n      \"properties\": {\n        \"dtype\": \"string\",\n        \"num_unique_values\": 153,\n        \"samples\": [\n          \"explained\",\n          \"many\",\n          \"good\"\n        ],\n        \"semantic_type\": \"\",\n        \"description\": \"\"\n      }\n    },\n    {\n      \"column\": \"Repetition\",\n      \"properties\": {\n        \"dtype\": \"number\",\n        \"std\": 2,\n        \"min\": 1,\n        \"max\": 17,\n        \"num_unique_values\": 13,\n        \"samples\": [\n          5,\n          9,\n          1\n        ],\n        \"semantic_type\": \"\",\n        \"description\": \"\"\n      }\n    }\n  ]\n}"
            }
          },
          "metadata": {},
          "execution_count": 35
        }
      ]
    },
    {
      "cell_type": "markdown",
      "source": [
        "**Number of words spoken per minute:**"
      ],
      "metadata": {
        "id": "kAr0UKUTjCF3"
      }
    },
    {
      "cell_type": "code",
      "source": [
        "print(\"Total number of words: \",len(result_str))"
      ],
      "metadata": {
        "colab": {
          "base_uri": "https://localhost:8080/"
        },
        "id": "AfPDLzIEik21",
        "outputId": "99bcd9a8-cff6-4cd5-ac8a-c98524659bb0"
      },
      "execution_count": 36,
      "outputs": [
        {
          "output_type": "stream",
          "name": "stdout",
          "text": [
            "Total number of words:  342\n"
          ]
        }
      ]
    },
    {
      "cell_type": "code",
      "source": [
        "print(\"Total length of audio: 3.08 minutes \")"
      ],
      "metadata": {
        "colab": {
          "base_uri": "https://localhost:8080/"
        },
        "id": "2v-Wh8r6aZA8",
        "outputId": "787686dd-466e-4a75-b163-9518c275f394"
      },
      "execution_count": 37,
      "outputs": [
        {
          "output_type": "stream",
          "name": "stdout",
          "text": [
            "Total length of audio: 3.08 minutes \n"
          ]
        }
      ]
    },
    {
      "cell_type": "code",
      "source": [
        "print(\"Total number of words spoken per minute : \",(len(result_str)/3.08))"
      ],
      "metadata": {
        "colab": {
          "base_uri": "https://localhost:8080/"
        },
        "id": "7g7ixxh3jMWp",
        "outputId": "b9abc2c5-eeb0-49a4-e674-705b6ceaa19e"
      },
      "execution_count": 38,
      "outputs": [
        {
          "output_type": "stream",
          "name": "stdout",
          "text": [
            "Total number of words spoken per minute :  111.03896103896103\n"
          ]
        }
      ]
    },
    {
      "cell_type": "code",
      "source": [],
      "metadata": {
        "id": "eDEz6et4jO2y"
      },
      "execution_count": null,
      "outputs": []
    }
  ]
}